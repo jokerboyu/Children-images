{
 "cells": [
  {
   "cell_type": "markdown",
   "id": "6ccf56d1",
   "metadata": {},
   "source": [
    "# matching with 0.5 or more"
   ]
  },
  {
   "cell_type": "code",
   "execution_count": 1,
   "id": "8e822633",
   "metadata": {},
   "outputs": [
    {
     "ename": "error",
     "evalue": "OpenCV(4.9.0) D:\\a\\opencv-python\\opencv-python\\opencv\\modules\\imgproc\\src\\templmatch.cpp:1175: error: (-215:Assertion failed) _img.size().height <= _templ.size().height && _img.size().width <= _templ.size().width in function 'cv::matchTemplate'\n",
     "output_type": "error",
     "traceback": [
      "\u001b[1;31m---------------------------------------------------------------------------\u001b[0m",
      "\u001b[1;31merror\u001b[0m                                     Traceback (most recent call last)",
      "Cell \u001b[1;32mIn[1], line 49\u001b[0m\n\u001b[0;32m     46\u001b[0m         \u001b[38;5;28mprint\u001b[39m(\u001b[38;5;124m\"\u001b[39m\u001b[38;5;124mNo pattern found. Match value: \u001b[39m\u001b[38;5;132;01m{:.2f}\u001b[39;00m\u001b[38;5;124m\"\u001b[39m\u001b[38;5;241m.\u001b[39mformat(match_value))\n\u001b[0;32m     48\u001b[0m \u001b[38;5;28;01mif\u001b[39;00m \u001b[38;5;18m__name__\u001b[39m \u001b[38;5;241m==\u001b[39m \u001b[38;5;124m\"\u001b[39m\u001b[38;5;124m__main__\u001b[39m\u001b[38;5;124m\"\u001b[39m:\n\u001b[1;32m---> 49\u001b[0m     main()\n",
      "Cell \u001b[1;32mIn[1], line 39\u001b[0m, in \u001b[0;36mmain\u001b[1;34m()\u001b[0m\n\u001b[0;32m     36\u001b[0m image_path \u001b[38;5;241m=\u001b[39m \u001b[38;5;124m\"\u001b[39m\u001b[38;5;124mC:\u001b[39m\u001b[38;5;130;01m\\\\\u001b[39;00m\u001b[38;5;124mUsers\u001b[39m\u001b[38;5;130;01m\\\\\u001b[39;00m\u001b[38;5;124mEM\u001b[39m\u001b[38;5;130;01m\\\\\u001b[39;00m\u001b[38;5;124mDownloads\u001b[39m\u001b[38;5;130;01m\\\\\u001b[39;00m\u001b[38;5;124mdna images\u001b[39m\u001b[38;5;130;01m\\\\\u001b[39;00m\u001b[38;5;124mtraining image\u001b[39m\u001b[38;5;130;01m\\\\\u001b[39;00m\u001b[38;5;124mp34.png\u001b[39m\u001b[38;5;124m\"\u001b[39m\n\u001b[0;32m     38\u001b[0m \u001b[38;5;66;03m# Match the patterns in the image\u001b[39;00m\n\u001b[1;32m---> 39\u001b[0m is_match, match_value, match_loc \u001b[38;5;241m=\u001b[39m match_dna_pattern(parent_pattern, image_path)\n\u001b[0;32m     41\u001b[0m \u001b[38;5;66;03m# Display the results\u001b[39;00m\n\u001b[0;32m     42\u001b[0m \u001b[38;5;28;01mif\u001b[39;00m is_match:\n",
      "Cell \u001b[1;32mIn[1], line 9\u001b[0m, in \u001b[0;36mmatch_dna_pattern\u001b[1;34m(parent_pattern, image_path, threshold)\u001b[0m\n\u001b[0;32m      6\u001b[0m image_gray \u001b[38;5;241m=\u001b[39m cv2\u001b[38;5;241m.\u001b[39mcvtColor(image, cv2\u001b[38;5;241m.\u001b[39mCOLOR_BGR2GRAY)\n\u001b[0;32m      8\u001b[0m \u001b[38;5;66;03m# Perform pattern matching using template matching\u001b[39;00m\n\u001b[1;32m----> 9\u001b[0m result \u001b[38;5;241m=\u001b[39m cv2\u001b[38;5;241m.\u001b[39mmatchTemplate(image_gray, parent_pattern, cv2\u001b[38;5;241m.\u001b[39mTM_CCOEFF_NORMED)\n\u001b[0;32m     10\u001b[0m _, max_val, _, max_loc \u001b[38;5;241m=\u001b[39m cv2\u001b[38;5;241m.\u001b[39mminMaxLoc(result)\n\u001b[0;32m     12\u001b[0m \u001b[38;5;66;03m# Check if the match exceeds the threshold\u001b[39;00m\n",
      "\u001b[1;31merror\u001b[0m: OpenCV(4.9.0) D:\\a\\opencv-python\\opencv-python\\opencv\\modules\\imgproc\\src\\templmatch.cpp:1175: error: (-215:Assertion failed) _img.size().height <= _templ.size().height && _img.size().width <= _templ.size().width in function 'cv::matchTemplate'\n"
     ]
    }
   ],
   "source": [
    "import cv2\n",
    "import numpy as np\n",
    "def match_dna_pattern(parent_pattern, image_path, threshold=0.5):\n",
    "    # Read the image\n",
    "    image = cv2.imread(image_path)\n",
    "    image_gray = cv2.cvtColor(image, cv2.COLOR_BGR2GRAY)\n",
    "\n",
    "    # Perform pattern matching using template matching\n",
    "    result = cv2.matchTemplate(image_gray, parent_pattern, cv2.TM_CCOEFF_NORMED)\n",
    "    _, max_val, _, max_loc = cv2.minMaxLoc(result)\n",
    "\n",
    "    # Check if the match exceeds the threshold\n",
    "    if max_val >= threshold:\n",
    "        return True, max_val, max_loc\n",
    "    else:\n",
    "        return False, max_val, None\n",
    "\n",
    "def visualize_matching(image, parent_pattern, match_loc):\n",
    "    h, w = parent_pattern.shape[:2]\n",
    "\n",
    "    # Draw a rectangle around the matched region\n",
    "    top_left = match_loc\n",
    "    bottom_right = (top_left[0] + w, top_left[1] + h)\n",
    "    cv2.rectangle(image, top_left, bottom_right, (0, 255, 0), 2)\n",
    "\n",
    "    # Display the result\n",
    "    cv2.imshow(\"Image with Pattern Matching\", image)\n",
    "    cv2.waitKey(0)\n",
    "    cv2.destroyAllWindows()\n",
    "\n",
    "def main():\n",
    "    # Example DNA pattern (convert your pattern image to a grayscale numpy array)\n",
    "    parent_pattern = cv2.imread(\"C:\\\\Users\\\\EM\\\\Downloads\\\\dna images\\\\training image\\\\p39.png\", cv2.IMREAD_GRAYSCALE)\n",
    "\n",
    "    # Example image path\n",
    "    image_path = \"C:\\\\Users\\\\EM\\\\Downloads\\\\dna images\\\\training image\\\\p34.png\"\n",
    "\n",
    "    # Match the patterns in the image\n",
    "    is_match, match_value, match_loc = match_dna_pattern(parent_pattern, image_path)\n",
    "\n",
    "    # Display the results\n",
    "    if is_match:\n",
    "        print(\"The pattern is found with a match value of {:.2f}.\".format(match_value))\n",
    "        visualize_matching(cv2.imread(image_path), parent_pattern, match_loc)\n",
    "    else:\n",
    "        print(\"No pattern found. Match value: {:.2f}\".format(match_value))\n",
    "\n",
    "if __name__ == \"__main__\":\n",
    "    main()\n"
   ]
  }
 ],
 "metadata": {
  "kernelspec": {
   "display_name": "Python 3 (ipykernel)",
   "language": "python",
   "name": "python3"
  },
  "language_info": {
   "codemirror_mode": {
    "name": "ipython",
    "version": 3
   },
   "file_extension": ".py",
   "mimetype": "text/x-python",
   "name": "python",
   "nbconvert_exporter": "python",
   "pygments_lexer": "ipython3",
   "version": "3.11.5"
  }
 },
 "nbformat": 4,
 "nbformat_minor": 5
}
